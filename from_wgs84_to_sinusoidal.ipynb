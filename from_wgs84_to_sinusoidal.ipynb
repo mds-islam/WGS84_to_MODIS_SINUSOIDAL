{
 "cells": [
  {
   "cell_type": "code",
   "execution_count": null,
   "id": "31824ba7",
   "metadata": {},
   "outputs": [],
   "source": [
    "import geopandas as gpd\n",
    "from pyproj import Transformer\n",
    "\n",
    "## Open the vector data file containing sample points \n",
    "#Set the directory of KML file\n",
    "kml_file = 'E:\\Saiful\\samplePOINTS\\h18v04_tempMODIS\\h18v04_tempMod_Points.kml'\n",
    "#This points for BETHY data in the same coordinates\n",
    "pts = read_kml(kml_file)\n",
    "print(pts)\n",
    "\n",
    "## Transform its coordinate system to match the coordinate system of MODIS data\n",
    "#Open the KML file\n",
    "gdf = gpd.read_file(kml_file)\n",
    "\n",
    "#Get the sample point numbers from the KML file\n",
    "sample_point_numbers = gdf['pointName'] #Sample points numbers are stored in pointName field\n",
    "\n",
    "#Extract the sample points' geometry in WGS 1984\n",
    "sample_points_wgs84 = gdf.geometry\n",
    "\n",
    "#Define the coordinate transformation from WGS 1984 to MODIS Sinusoidal\n",
    "#EPSG:4326 represents WGS 1984 in degree decimal unit\n",
    "#EPSG:6933 represents MODIS Sinusoidal projection in meter unit\n",
    "transformer = Transformer.from_crs(\"EPSG:4326\", \"EPSG:6933\", always_xy=True)\n",
    "\n",
    "#Create an empty list to store the transformed sample points\n",
    "sample_points_modis = []\n",
    "\n",
    "#Convert the sample points' coordinates from WGS 1984 to MODIS sinusoidal\n",
    "for i, point in enumerate(sample_points_wgs84):\n",
    "    lon, lat = point.x, point.y\n",
    "    x, y = transformer.transform(lon, lat)\n",
    "    sample_points_modis.append((x, y, sample_point_numbers[i]))\n",
    "\n",
    "print(sample_points_wgs84)  # This is the coordinates of sample points in WGS 1984 spatial reference system\n",
    "print(sample_points_modis)  # This is the coordinates of sample points in MODIS Sinusoidal spatial reference system"
   ]
  }
 ],
 "metadata": {
  "kernelspec": {
   "display_name": "Python 3 (ipykernel)",
   "language": "python",
   "name": "python3"
  },
  "language_info": {
   "codemirror_mode": {
    "name": "ipython",
    "version": 3
   },
   "file_extension": ".py",
   "mimetype": "text/x-python",
   "name": "python",
   "nbconvert_exporter": "python",
   "pygments_lexer": "ipython3",
   "version": "3.10.10"
  }
 },
 "nbformat": 4,
 "nbformat_minor": 5
}
